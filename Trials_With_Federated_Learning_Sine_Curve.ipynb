{
  "nbformat": 4,
  "nbformat_minor": 0,
  "metadata": {
    "colab": {
      "name": "Trials_With_Federated_Learning_Sine_Curve.ipynb",
      "provenance": [],
      "authorship_tag": "ABX9TyO0gI26PYWKv7cYKOo0LVjK",
      "include_colab_link": true
    },
    "kernelspec": {
      "name": "python3",
      "display_name": "Python 3"
    }
  },
  "cells": [
    {
      "cell_type": "markdown",
      "metadata": {
        "id": "view-in-github",
        "colab_type": "text"
      },
      "source": [
        "<a href=\"https://colab.research.google.com/github/AmanPriyanshu/Federated-Learning/blob/main/Trials_With_Federated_Learning_Sine_Curve.ipynb\" target=\"_parent\"><img src=\"https://colab.research.google.com/assets/colab-badge.svg\" alt=\"Open In Colab\"/></a>"
      ]
    },
    {
      "cell_type": "markdown",
      "metadata": {
        "id": "8FBEws146aDl"
      },
      "source": [
        "# TRIALS WITH FEDERATED - LEARNING SINE CURVE:"
      ]
    },
    {
      "cell_type": "markdown",
      "metadata": {
        "id": "_EwMGinz6Z7u"
      },
      "source": [
        "## IMPORTS:"
      ]
    },
    {
      "cell_type": "code",
      "metadata": {
        "id": "oWFoA5XE5bCC"
      },
      "source": [
        "import numpy as np\n",
        "import os\n",
        "os.environ['TF_CPP_MIN_LOG_LEVEL'] = '3'\n",
        "import tensorflow as tf\n",
        "\n",
        "import logging\n",
        "tf.get_logger().setLevel(logging.ERROR)\n",
        "from matplotlib import pyplot as plt"
      ],
      "execution_count": 1,
      "outputs": []
    },
    {
      "cell_type": "markdown",
      "metadata": {
        "id": "Glwqsinp6k2G"
      },
      "source": [
        "## GENERATING DATASET:"
      ]
    },
    {
      "cell_type": "code",
      "metadata": {
        "colab": {
          "base_uri": "https://localhost:8080/",
          "height": 269
        },
        "id": "s-gBw9hZ6ZKU",
        "outputId": "f6fdecc1-b096-46a2-d278-06fad5b896df"
      },
      "source": [
        "x = np.arange(-10000, 10000)/500\n",
        "y = np.sin(x)\n",
        "\n",
        "plt.plot(x, y, color='blue', label='Sin-Curve')\n",
        "plt.ylim([-1.5, 1.5])\n",
        "plt.plot(x, y*0, '--', color='black')\n",
        "plt.plot(x*0, x/13.3, '--', color='black')\n",
        "plt.legend()\n",
        "plt.show()"
      ],
      "execution_count": 2,
      "outputs": [
        {
          "output_type": "display_data",
          "data": {
            "image/png": "[encoded data removed]",
            "text/plain": [
              "<Figure size 432x288 with 1 Axes>"
            ]
          },
          "metadata": {
            "tags": [],
            "needs_background": "light"
          }
        }
      ]
    },
    {
      "cell_type": "code",
      "metadata": {
        "id": "lWXnOZhn624u"
      },
      "source": [
        "def dataset_generator(n=1000, x_range=[-10, 10]):\n",
        "  x = np.random.uniform(x_range[0], x_range[1], n)\n",
        "  y = np.random.uniform(-1, 1, n)\n",
        "  y = np.array([0 if j<np.sin(i) else 1 for i, j in zip(y, x)])\n",
        "  return x, y"
      ],
      "execution_count": 3,
      "outputs": []
    },
    {
      "cell_type": "code",
      "metadata": {
        "id": "AmcwJHtZRJrI"
      },
      "source": [
        "number_of_samples = 10000"
      ],
      "execution_count": 4,
      "outputs": []
    },
    {
      "cell_type": "code",
      "metadata": {
        "id": "IJAptrDA8ly1"
      },
      "source": [
        "x, y = dataset_generator(number_of_samples)"
      ],
      "execution_count": 5,
      "outputs": []
    },
    {
      "cell_type": "markdown",
      "metadata": {
        "id": "-1AmTv48OEFn"
      },
      "source": [
        "# NORMAL:"
      ]
    },
    {
      "cell_type": "code",
      "metadata": {
        "colab": {
          "base_uri": "https://localhost:8080/"
        },
        "id": "nEfZDHB-OFd3",
        "outputId": "079bf523-242f-4388-fb73-f04518b31c0a"
      },
      "source": [
        "model = tf.keras.models.Sequential([\n",
        "                                   tf.keras.layers.Input(1),\n",
        "                                   tf.keras.layers.Dense(4, activation=\"relu\"),\n",
        "                                   tf.keras.layers.Dense(1, activation='sigmoid'),\n",
        "])\n",
        "\n",
        "model.compile(loss='binary_crossentropy', optimizer='adam', metrics=['acc'])\n",
        "history = model.fit(x, y, epochs=150, validation_split=0.1, verbose=0)\n",
        "model.evaluate(x, y)"
      ],
      "execution_count": 6,
      "outputs": [
        {
          "output_type": "stream",
          "text": [
            "313/313 [==============================] - 0s 905us/step - loss: 0.0467 - acc: 0.9776\n"
          ],
          "name": "stdout"
        },
        {
          "output_type": "execute_result",
          "data": {
            "text/plain": [
              "[0.046664733439683914, 0.9775999784469604]"
            ]
          },
          "metadata": {
            "tags": []
          },
          "execution_count": 6
        }
      ]
    },
    {
      "cell_type": "code",
      "metadata": {
        "colab": {
          "base_uri": "https://localhost:8080/",
          "height": 265
        },
        "id": "QAzQxQw6OnuX",
        "outputId": "e5cbb239-b9e9-42f0-875c-f8e39ed76324"
      },
      "source": [
        "plt.plot(history.history['val_loss'], label='VALIDATION LOSS')\n",
        "plt.legend()\n",
        "plt.show()"
      ],
      "execution_count": 7,
      "outputs": [
        {
          "output_type": "display_data",
          "data": {
            "image/png": "[encoded data removed]",
            "text/plain": [
              "<Figure size 432x288 with 1 Axes>"
            ]
          },
          "metadata": {
            "tags": [],
            "needs_background": "light"
          }
        }
      ]
    },
    {
      "cell_type": "code",
      "metadata": {
        "colab": {
          "base_uri": "https://localhost:8080/",
          "height": 265
        },
        "id": "koiQ3GYEO0g_",
        "outputId": "6050e076-d8af-4705-8871-1726adde97a7"
      },
      "source": [
        "plt.plot(history.history['val_acc'], label='VALIDATION ACC')\n",
        "plt.legend()\n",
        "plt.show()"
      ],
      "execution_count": 8,
      "outputs": [
        {
          "output_type": "display_data",
          "data": {
            "image/png": "[encoded data removed]",
            "text/plain": [
              "<Figure size 432x288 with 1 Axes>"
            ]
          },
          "metadata": {
            "tags": [],
            "needs_background": "light"
          }
        }
      ]
    },
    {
      "cell_type": "markdown",
      "metadata": {
        "id": "N0riLpfMOCFI"
      },
      "source": [
        "# IID:"
      ]
    },
    {
      "cell_type": "markdown",
      "metadata": {
        "id": "IzzKbMR690BB"
      },
      "source": [
        "## Defining Client Side Model:"
      ]
    },
    {
      "cell_type": "code",
      "metadata": {
        "id": "lxmAB4ZJ935j"
      },
      "source": [
        "def generate_client_side_model(initial_weights=None):\n",
        "  client_model = tf.keras.models.Sequential([\n",
        "                                   tf.keras.layers.Input(1),\n",
        "                                   tf.keras.layers.Dense(4, activation=\"relu\"),\n",
        "                                   tf.keras.layers.Dense(1, activation='sigmoid'),\n",
        "  ])\n",
        "\n",
        "  client_model.compile(loss='binary_crossentropy', optimizer='adam', metrics=['acc'])\n",
        "\n",
        "  if initial_weights!=None:\n",
        "    client_model.set_weights(initial_weights)\n",
        "\n",
        "  return client_model"
      ],
      "execution_count": 9,
      "outputs": []
    },
    {
      "cell_type": "markdown",
      "metadata": {
        "id": "-DEU9-t795Z5"
      },
      "source": [
        "## Aggregator Model:"
      ]
    },
    {
      "cell_type": "code",
      "metadata": {
        "id": "SyvXKQo098LR"
      },
      "source": [
        "def generate_aggregator_model():\n",
        "  aggregator_model = generate_client_side_model()\n",
        "  w = aggregator_model.get_weights()\n",
        "  w = [0*i for i in w]\n",
        "  aggregator_model.set_weights(w)\n",
        "  return aggregator_model"
      ],
      "execution_count": 10,
      "outputs": []
    },
    {
      "cell_type": "markdown",
      "metadata": {
        "id": "LZ5mr6FC9v8F"
      },
      "source": [
        "## IID Attempt:"
      ]
    },
    {
      "cell_type": "code",
      "metadata": {
        "id": "2205RC948m9r"
      },
      "source": [
        "number_of_clients = 5\n",
        "aggregator_epochs = 10\n",
        "client_epochs = 3\n",
        "\n",
        "number_of_sample_per_client = number_of_samples//number_of_clients"
      ],
      "execution_count": 11,
      "outputs": []
    },
    {
      "cell_type": "code",
      "metadata": {
        "id": "ZLwa4XraAR6b"
      },
      "source": [
        "clients = {i:[] for i in range(number_of_clients)}\n",
        "\n",
        "indexes = np.arange(x.shape[0])\n",
        "for client in clients.keys():\n",
        "  clients[client] = np.random.choice(indexes, number_of_sample_per_client, replace=False)\n",
        "  indexes = np.array([i for i in indexes if i not in clients[client]])\n",
        "\n",
        "clients_dataset = {}\n",
        "for client in clients.keys():\n",
        "  clients_dataset.update({client: [x[clients[client]], y[clients[client]] ]})"
      ],
      "execution_count": 12,
      "outputs": []
    },
    {
      "cell_type": "markdown",
      "metadata": {
        "id": "OHW6xOioDWIU"
      },
      "source": [
        "### Execution:"
      ]
    },
    {
      "cell_type": "code",
      "metadata": {
        "id": "WZBBwF3_HK-G"
      },
      "source": [
        "aggregator_model = generate_aggregator_model()\n",
        "aggregator_weights = aggregator_model.get_weights()\n",
        "\n",
        "aggregator_loss, aggregator_accuracy = [], []"
      ],
      "execution_count": 13,
      "outputs": []
    },
    {
      "cell_type": "code",
      "metadata": {
        "colab": {
          "base_uri": "https://localhost:8080/"
        },
        "id": "BvYGJhKwDP7y",
        "outputId": "e2306291-8b9a-4226-bab8-c51939ab1ed5"
      },
      "source": [
        "client_weights = {client: None for client in range(number_of_clients)}\n",
        "print(\"Aggregator Model:\")\n",
        "for aggregator_epoch in range(aggregator_epochs):\n",
        "  for client in client_weights.keys():\n",
        "    w = client_weights[client]\n",
        "    cm = generate_client_side_model(w)\n",
        "    cm.fit(clients_dataset[client][0], clients_dataset[client][1], epochs=client_epochs, verbose=False, validation_split=0.1)\n",
        "    client_weights[client] = cm.get_weights()\n",
        "    cm = None\n",
        "\n",
        "  aggregator_weights = [np.mean([client_weights[client][index] for client in range(number_of_clients)], axis=0) for index in range(len(aggregator_weights))]\n",
        "  client_weights = {client: aggregator_weights for client in client_weights.keys()}\n",
        "  aggregator_model.set_weights(aggregator_weights)\n",
        "  loss, acc = aggregator_model.evaluate(x, y, verbose=True)\n",
        "  aggregator_loss.append(loss)\n",
        "  aggregator_accuracy.append(acc)"
      ],
      "execution_count": 14,
      "outputs": [
        {
          "output_type": "stream",
          "text": [
            "Aggregator Model:\n",
            "313/313 [==============================] - 0s 779us/step - loss: 0.4016 - acc: 0.9747\n",
            "313/313 [==============================] - 0s 842us/step - loss: 0.2171 - acc: 0.9762\n",
            "313/313 [==============================] - 0s 901us/step - loss: 0.1216 - acc: 0.9768\n",
            "313/313 [==============================] - 0s 828us/step - loss: 0.0787 - acc: 0.9769\n",
            "313/313 [==============================] - 0s 790us/step - loss: 0.0612 - acc: 0.9768\n",
            "313/313 [==============================] - 0s 802us/step - loss: 0.0544 - acc: 0.9768\n",
            "313/313 [==============================] - 0s 768us/step - loss: 0.0517 - acc: 0.9768\n",
            "313/313 [==============================] - 0s 856us/step - loss: 0.0507 - acc: 0.9768\n",
            "313/313 [==============================] - 0s 759us/step - loss: 0.0502 - acc: 0.9767\n",
            "313/313 [==============================] - 0s 763us/step - loss: 0.0499 - acc: 0.9769\n"
          ],
          "name": "stdout"
        }
      ]
    },
    {
      "cell_type": "code",
      "metadata": {
        "colab": {
          "base_uri": "https://localhost:8080/",
          "height": 265
        },
        "id": "lw-cY2FEJrAE",
        "outputId": "62bd8476-0be4-493b-ebd8-136b5d491af1"
      },
      "source": [
        "plt.plot(range(len(aggregator_loss)), aggregator_loss, label='LOSS')\n",
        "plt.legend()\n",
        "plt.show()"
      ],
      "execution_count": 15,
      "outputs": [
        {
          "output_type": "display_data",
          "data": {
            "image/png": "[encoded data removed]",
            "text/plain": [
              "<Figure size 432x288 with 1 Axes>"
            ]
          },
          "metadata": {
            "tags": [],
            "needs_background": "light"
          }
        }
      ]
    },
    {
      "cell_type": "code",
      "metadata": {
        "colab": {
          "base_uri": "https://localhost:8080/",
          "height": 268
        },
        "id": "2pAZp9NANs7C",
        "outputId": "b3ebfb30-0333-49fa-f87d-c0eab6174de7"
      },
      "source": [
        "plt.plot(range(len(aggregator_accuracy)), aggregator_accuracy, label='ACCURACY')\n",
        "plt.legend()\n",
        "plt.show()"
      ],
      "execution_count": 16,
      "outputs": [
        {
          "output_type": "display_data",
          "data": {
            "image/png": "[encoded data removed]",
            "text/plain": [
              "<Figure size 432x288 with 1 Axes>"
            ]
          },
          "metadata": {
            "tags": [],
            "needs_background": "light"
          }
        }
      ]
    },
    {
      "cell_type": "code",
      "metadata": {
        "id": "JEKQtIrbN4kl"
      },
      "source": [
        ""
      ],
      "execution_count": 16,
      "outputs": []
    }
  ]
}